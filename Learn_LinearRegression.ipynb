{
 "cells": [
  {
   "cell_type": "markdown",
   "id": "fc63ca91-e9d1-4602-99d5-a7a777f179ed",
   "metadata": {},
   "source": [
    "## 线性回归的解析方法"
   ]
  },
  {
   "cell_type": "markdown",
   "id": "433a052d-4733-4fd4-a901-8ee26d3a12dc",
   "metadata": {},
   "source": [
    "### 1. 模型"
   ]
  },
  {
   "cell_type": "markdown",
   "id": "d26e2494-3618-4569-bc74-952ee64163da",
   "metadata": {},
   "source": [
    "输入向量与标签：\n",
    "$$\n",
    "X = \\begin{bmatrix}x^T_1 \\\\ x^T_2\\\\ \\vdots \\\\ x^T_N\\end{bmatrix}, Y = \\begin{bmatrix}y_1 \\\\ y_2\\\\ \\vdots \\\\ y_N\\end{bmatrix}\n",
    "$$"
   ]
  },
  {
   "cell_type": "markdown",
   "id": "30908ae9-a9bd-4b18-bd4c-357a30f09c7c",
   "metadata": {},
   "source": [
    "损失函数（均方误差）：\n",
    "\n",
    "$$\n",
    "J(\\theta) = \\frac{1}{2N}(y-X\\theta)^T(y-X\\theta)\n",
    "$$"
   ]
  },
  {
   "cell_type": "markdown",
   "id": "c525125b-ae9e-4b8e-84c3-08f4fb9442b0",
   "metadata": {},
   "source": [
    "解析解（导数为0）：\n",
    "$$\n",
    "\\theta = (X^TX)^{-1}X^Ty\n",
    "$$"
   ]
  },
  {
   "cell_type": "markdown",
   "id": "6e885658-e861-42fb-a83e-e45afdfcfe15",
   "metadata": {},
   "source": [
    "模型对训练数据的预测：\n",
    "\n",
    "$$\n",
    "f(\\theta) = X\\theta = X(X^TX)^{-1}X^Ty\n",
    "$$"
   ]
  },
  {
   "cell_type": "markdown",
   "id": "fca2ac19-5106-4415-ae5a-ec93f6477ce6",
   "metadata": {},
   "source": [
    "### 2. 手写代码实现"
   ]
  },
  {
   "cell_type": "code",
   "execution_count": 1,
   "id": "c12292c0-e666-4193-a59e-9408b47d8f3a",
   "metadata": {},
   "outputs": [],
   "source": [
    "import numpy as np\n",
    "import matplotlib.pyplot as plt\n",
    "from matplotlib.ticker import MaxNLocator\n",
    "from sklearn.preprocessing import StandardScaler"
   ]
  },
  {
   "cell_type": "code",
   "execution_count": 25,
   "id": "34c1ed4d-86d6-493d-bec2-ac3b388eec35",
   "metadata": {},
   "outputs": [
    {
     "name": "stdout",
     "output_type": "stream",
     "text": [
      "数据特征： Avg. Area Income, Avg. Area House Age, Avg. Area Number of Rooms, Avg. Area Number of Bedrooms, Area Population\n",
      "数据标签： Price\n",
      "数据总条数： 5000\n"
     ]
    }
   ],
   "source": [
    "# 加载数据，查询数据特征\n",
    "lines = np.loadtxt('USA_Housing.csv',delimiter=',',dtype='str')\n",
    "header = lines[0]\n",
    "lines = lines[1:].astype(float)\n",
    "print('数据特征：',', '.join(header[:-1]))\n",
    "print('数据标签：',header[-1])\n",
    "print('数据总条数：',len(lines))"
   ]
  },
  {
   "cell_type": "code",
   "execution_count": 26,
   "id": "ed428813-c42a-4fdc-8d84-6ddf6e5e4233",
   "metadata": {},
   "outputs": [],
   "source": [
    "# 划分训练集与测试集\n",
    "ratio = 0.8\n",
    "split = int(len(lines)*ratio)\n",
    "lines = np.random.permutation(lines)\n",
    "train,test = lines[:split], lines[split:]"
   ]
  },
  {
   "cell_type": "code",
   "execution_count": 27,
   "id": "0e595818-df9c-4572-8809-85a71e4251cc",
   "metadata": {},
   "outputs": [],
   "source": [
    "# 数据标准化\n",
    "scaler = StandardScaler() # 创建对象\n",
    "scaler.fit(train) # 使用训练集计算均值与方差\n",
    "train = scaler.transform(train)\n",
    "test = scaler.transform(test)\n",
    "\n",
    "# print(help(flatten()))"
   ]
  },
  {
   "cell_type": "code",
   "execution_count": 30,
   "id": "0a61206c-75fa-4513-ae21-1ea767f7bb09",
   "metadata": {},
   "outputs": [
    {
     "name": "stdout",
     "output_type": "stream",
     "text": [
      "(4000, 5)\n",
      "(4000,)\n",
      "<class 'numpy.ndarray'>\n",
      "(4000,)\n",
      "<class 'numpy.ndarray'>\n"
     ]
    }
   ],
   "source": [
    "# 划分输入和标签\n",
    "x_train, y_train = train[:,:-1], train[:,-1]\n",
    "print(x_train.shape)\n",
    "print(y_train.shape)\n",
    "print(type(y_train))\n",
    "x_train, y_train = train[:,:-1], train[:,-1].flatten()\n",
    "print(y_train.shape)\n",
    "print(type(y_train))"
   ]
  },
  {
   "cell_type": "code",
   "execution_count": 29,
   "id": "7911abe8-9127-4c3e-8722-0cba172beb5a",
   "metadata": {},
   "outputs": [],
   "source": [
    "x_test, y_test = test[:,:-1], test[:,-1].flatten()"
   ]
  },
  {
   "cell_type": "markdown",
   "id": "c9d662e8-dcf7-4862-9b48-5263cabeda78",
   "metadata": {},
   "source": [
    "均方根误差：（模型评价指标）\n",
    "\n",
    "$$\n",
    "\\mathcal{L}_{RMSE}(y,\\hat{y}) = \\sqrt{\\frac{1}{N}\\sum_{i=1}^N(y_i-\\hat{y}_i)^2}\n",
    "$$"
   ]
  },
  {
   "cell_type": "markdown",
   "id": "c1df5087-914e-4060-9399-9aa6b2206155",
   "metadata": {},
   "source": [
    "均方误差：（训练时的损失函数）\n",
    "\n",
    "$$\n",
    "\\mathcal{L}_{MSE}(y,\\hat{y}) = \\frac{1}{2N}\\sum_{i=1}^N(y_i-\\hat{y}_i)^2\n",
    "$$"
   ]
  },
  {
   "cell_type": "code",
   "execution_count": 37,
   "id": "fb69bea3-2853-4746-9579-6ead5fe1940b",
   "metadata": {},
   "outputs": [
    {
     "name": "stdout",
     "output_type": "stream",
     "text": [
      "(4000, 5)\n",
      "<class 'numpy.ndarray'>\n",
      "(4000, 6)\n",
      "<class 'numpy.ndarray'>\n"
     ]
    }
   ],
   "source": [
    "# 在X矩阵最后添加一列1，代表常数项\n",
    "print(x_train.shape)\n",
    "print(type(x_train))\n",
    "X = np.concatenate([x_train,np.ones((len(x_train),1))],axis=1)\n",
    "print(X.shape)\n",
    "print(type(X))"
   ]
  },
  {
   "cell_type": "markdown",
   "id": "c4d36bb2-2601-4409-8413-24822987c7a3",
   "metadata": {},
   "source": [
    "解析解（导数为0）：\n",
    "$$\n",
    "\\theta = (X^TX)^{-1}X^Ty\n",
    "$$"
   ]
  },
  {
   "cell_type": "code",
   "execution_count": 39,
   "id": "fc9c18e2-a2a3-4176-a020-1cf534e6a478",
   "metadata": {},
   "outputs": [
    {
     "name": "stdout",
     "output_type": "stream",
     "text": [
      "回归系数： [6.55393036e-01 4.59613908e-01 3.42308053e-01 3.04235311e-03\n",
      " 4.19771186e-01 6.76542156e-17]\n"
     ]
    }
   ],
   "source": [
    "# @表示矩阵相乘，X.T代表矩阵X的转置，np.linalg.inv计算矩阵的逆\n",
    "theta = np.linalg.inv(X.T @ X) @ X.T @ y_train\n",
    "print('回归系数：',theta)"
   ]
  },
  {
   "cell_type": "markdown",
   "id": "3a001770-ea5e-4e35-9ce1-6b3b2494970f",
   "metadata": {},
   "source": [
    "模型对测试数据的预测：\n",
    "\n",
    "$$\n",
    "f(\\theta) = X\\theta = X(X^TX)^{-1}X^Ty\n",
    "$$"
   ]
  },
  {
   "cell_type": "code",
   "execution_count": 41,
   "id": "ade9144a-7b5d-4ac8-95be-ec49aab7ba16",
   "metadata": {},
   "outputs": [],
   "source": [
    "# 在测试集上使用回归系数进行预测\n",
    "X_test = np.concatenate([x_test,np.ones((len(x_test),1))],axis=1)\n",
    "y_pred = X_test @ theta"
   ]
  },
  {
   "cell_type": "code",
   "execution_count": 42,
   "id": "bbffc4c3-6349-426b-82f4-c01560ecf8b9",
   "metadata": {},
   "outputs": [
    {
     "name": "stdout",
     "output_type": "stream",
     "text": [
      "RMSE:  0.2757154767338514\n"
     ]
    }
   ],
   "source": [
    "# 计算预测值与真实值之间的RMSE\n",
    "rmse_loss = np.sqrt(np.square(y_test - y_pred).mean())\n",
    "print(\"RMSE: \",rmse_loss)"
   ]
  },
  {
   "cell_type": "markdown",
   "id": "51a4b6a2-ce9a-4866-942e-b6345611c519",
   "metadata": {},
   "source": [
    "### 3. sklearn实现"
   ]
  },
  {
   "cell_type": "code",
   "execution_count": 45,
   "id": "7ff44827-bd07-41d9-bea3-b8109e9df3ea",
   "metadata": {},
   "outputs": [
    {
     "name": "stdout",
     "output_type": "stream",
     "text": [
      "回归系数： [0.65539304 0.45961391 0.34230805 0.00304235 0.41977119] 9.374571425301378e-17\n"
     ]
    }
   ],
   "source": [
    "from sklearn.linear_model import LinearRegression\n",
    "\n",
    "# 初始化线性回归模型\n",
    "linreg = LinearRegression()\n",
    "\n",
    "# LinearRegression的方法中已经考虑了线性回归中的常数项\n",
    "linreg.fit(x_train,y_train)\n",
    "# coef_是训练得到的回归系数，intercept_是常数项\n",
    "print(\"回归系数：\",linreg.coef_,linreg.intercept_)"
   ]
  },
  {
   "cell_type": "code",
   "execution_count": 46,
   "id": "1ef24afc-9eec-4d16-b1b7-be95af846bce",
   "metadata": {},
   "outputs": [
    {
     "name": "stdout",
     "output_type": "stream",
     "text": [
      "RMSE: 0.2757154767338514\n"
     ]
    }
   ],
   "source": [
    "y_pred = linreg.predict(x_test)\n",
    "# 计算真实值与预测值之间的MSE\n",
    "rmse_loss = np.sqrt(np.square(y_test - y_pred).mean())\n",
    "print(\"RMSE:\", rmse_loss)"
   ]
  },
  {
   "cell_type": "code",
   "execution_count": null,
   "id": "b334cf6c-3bd4-430a-a92b-74f7d677e0c8",
   "metadata": {},
   "outputs": [],
   "source": []
  }
 ],
 "metadata": {
  "kernelspec": {
   "display_name": "Python 3 (ipykernel)",
   "language": "python",
   "name": "python3"
  },
  "language_info": {
   "codemirror_mode": {
    "name": "ipython",
    "version": 3
   },
   "file_extension": ".py",
   "mimetype": "text/x-python",
   "name": "python",
   "nbconvert_exporter": "python",
   "pygments_lexer": "ipython3",
   "version": "3.9.1"
  }
 },
 "nbformat": 4,
 "nbformat_minor": 5
}
