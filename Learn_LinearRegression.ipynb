{
 "cells": [
  {
   "cell_type": "markdown",
   "id": "fc63ca91-e9d1-4602-99d5-a7a777f179ed",
   "metadata": {},
   "source": [
    "## 线性回归的解析方法"
   ]
  },
  {
   "cell_type": "markdown",
   "id": "433a052d-4733-4fd4-a901-8ee26d3a12dc",
   "metadata": {},
   "source": [
    "### 1. 模型"
   ]
  },
  {
   "cell_type": "markdown",
   "id": "d26e2494-3618-4569-bc74-952ee64163da",
   "metadata": {},
   "source": [
    "输入向量与标签：\n",
    "$$\n",
    "X = \\begin{bmatrix}x^T_1 \\\\ x^T_2\\\\ \\vdots \\\\ x^T_N\\end{bmatrix}, Y = \\begin{bmatrix}y_1 \\\\ y_2\\\\ \\vdots \\\\ y_N\\end{bmatrix}\n",
    "$$"
   ]
  },
  {
   "cell_type": "markdown",
   "id": "30908ae9-a9bd-4b18-bd4c-357a30f09c7c",
   "metadata": {},
   "source": [
    "损失函数（均方误差）：\n",
    "\n",
    "$$\n",
    "J(\\theta) = \\frac{1}{2N}(y-X\\theta)^T(y-X\\theta)\n",
    "$$"
   ]
  },
  {
   "cell_type": "markdown",
   "id": "c525125b-ae9e-4b8e-84c3-08f4fb9442b0",
   "metadata": {},
   "source": [
    "解析解（导数为0）：\n",
    "$$\n",
    "\\theta = (X^TX)^{-1}X^Ty\n",
    "$$"
   ]
  },
  {
   "cell_type": "markdown",
   "id": "6e885658-e861-42fb-a83e-e45afdfcfe15",
   "metadata": {},
   "source": [
    "模型对训练数据的预测：\n",
    "\n",
    "$$\n",
    "f(\\theta) = X\\theta = X(X^TX)^{-1}X^Ty\n",
    "$$"
   ]
  },
  {
   "cell_type": "markdown",
   "id": "fca2ac19-5106-4415-ae5a-ec93f6477ce6",
   "metadata": {},
   "source": [
    "### 2. 代码实现"
   ]
  },
  {
   "cell_type": "code",
   "execution_count": null,
   "id": "c12292c0-e666-4193-a59e-9408b47d8f3a",
   "metadata": {},
   "outputs": [],
   "source": []
  }
 ],
 "metadata": {
  "kernelspec": {
   "display_name": "Python 3 (ipykernel)",
   "language": "python",
   "name": "python3"
  },
  "language_info": {
   "codemirror_mode": {
    "name": "ipython",
    "version": 3
   },
   "file_extension": ".py",
   "mimetype": "text/x-python",
   "name": "python",
   "nbconvert_exporter": "python",
   "pygments_lexer": "ipython3",
   "version": "3.12.1"
  }
 },
 "nbformat": 4,
 "nbformat_minor": 5
}
