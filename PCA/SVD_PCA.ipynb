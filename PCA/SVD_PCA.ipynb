{
 "cells": [
  {
   "cell_type": "markdown",
   "id": "9ad2f368-b796-4f72-b882-0f43c47cb5da",
   "metadata": {},
   "source": [
    "#### SVD降维演示"
   ]
  },
  {
   "cell_type": "code",
   "execution_count": 1,
   "id": "1b6c7c98-4abf-4a36-9da5-419503d4b1ef",
   "metadata": {},
   "outputs": [
    {
     "name": "stdout",
     "output_type": "stream",
     "text": [
      "[[3 3 2]\n",
      " [5 4 8]\n",
      " [8 2 3]\n",
      " [3 3 8]\n",
      " [0 1 4]]\n"
     ]
    }
   ],
   "source": [
    "# 1）创建测试用例\n",
    "# 5个数据，3维特征\n",
    "import numpy as np\n",
    "X = np.random.randint(0,10,(5,3))\n",
    "print(X)"
   ]
  },
  {
   "cell_type": "code",
   "execution_count": 2,
   "id": "d5f460cb-2e03-4fcf-a347-f3bfd5535f53",
   "metadata": {},
   "outputs": [
    {
     "name": "stdout",
     "output_type": "stream",
     "text": [
      "[[3.49894312 2.41921027]\n",
      " [5.82746772 8.3376621 ]\n",
      " [8.30929043 2.82009393]\n",
      " [3.69607273 8.24745269]\n",
      " [0.28884691 4.1129274 ]]\n"
     ]
    }
   ],
   "source": [
    "# 2）使用协方差矩阵对角化方法对数据进行降维\n",
    "# demean\n",
    "X_demean = X - np.mean(X,axis=0)\n",
    "# 计算协方差矩阵\n",
    "cov = X_demean.T.dot(X_demean) / (len(X_demean)-1)\n",
    "# 对协方差矩阵进行特征值分解（对角化）\n",
    "eigvals, eigvecs = np.linalg.eig(cov)\n",
    "# 新样本的协方差矩阵\n",
    "cov_new = eigvecs.T.dot(cov).dot(eigvecs)\n",
    "# 选择合适的k\n",
    "sorted_index = np.argsort(-eigvals)\n",
    "sum_power = sum(eigvals);\n",
    "cur_power = 0;\n",
    "for k in range(len(eigvals)):  \n",
    "    cur_power += eigvals[sorted_index[k]]  \n",
    "    if cur_power / sum_power > 0.9:     \n",
    "        break;\n",
    "# 降维\n",
    "X_new = X.dot(eigvecs[:,sorted_index[0:k+1]])\n",
    "print(X_new)"
   ]
  },
  {
   "cell_type": "code",
   "execution_count": 4,
   "id": "bac91ada-f905-47c8-a30c-a556b539761e",
   "metadata": {},
   "outputs": [
    {
     "name": "stdout",
     "output_type": "stream",
     "text": [
      "[0.6974989  8.87510672 8.42739438]\n",
      "[ 6.10008538  5.7419155  -0.44200088]\n"
     ]
    }
   ],
   "source": [
    "# 3）使用SVD来降维\n",
    "U,Sigma,V_T = np.linalg.svd(X_demean)\n",
    "print(eigvals)\n",
    "print(Sigma**2 / len(X_demean)-1)"
   ]
  },
  {
   "cell_type": "code",
   "execution_count": null,
   "id": "c26c8bda-5964-4ae5-9688-1e9096ebe77c",
   "metadata": {},
   "outputs": [],
   "source": []
  }
 ],
 "metadata": {
  "kernelspec": {
   "display_name": "Python 3 (ipykernel)",
   "language": "python",
   "name": "python3"
  },
  "language_info": {
   "codemirror_mode": {
    "name": "ipython",
    "version": 3
   },
   "file_extension": ".py",
   "mimetype": "text/x-python",
   "name": "python",
   "nbconvert_exporter": "python",
   "pygments_lexer": "ipython3",
   "version": "3.9.1"
  }
 },
 "nbformat": 4,
 "nbformat_minor": 5
}
