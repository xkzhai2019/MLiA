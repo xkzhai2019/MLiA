{
 "cells": [
  {
   "cell_type": "markdown",
   "id": "9ad2f368-b796-4f72-b882-0f43c47cb5da",
   "metadata": {},
   "source": [
    "#### SVD降维演示"
   ]
  },
  {
   "cell_type": "code",
   "execution_count": 1,
   "id": "1b6c7c98-4abf-4a36-9da5-419503d4b1ef",
   "metadata": {},
   "outputs": [
    {
     "name": "stdout",
     "output_type": "stream",
     "text": [
      "[[8 7 6]\n",
      " [6 2 5]\n",
      " [7 4 8]\n",
      " [7 5 8]\n",
      " [7 6 1]]\n"
     ]
    }
   ],
   "source": [
    "# 1）创建测试用例\n",
    "# 5个数据，3维特征\n",
    "import numpy as np\n",
    "X = np.random.randint(0,10,(5,3))\n",
    "print(X)"
   ]
  },
  {
   "cell_type": "code",
   "execution_count": 2,
   "id": "d5f460cb-2e03-4fcf-a347-f3bfd5535f53",
   "metadata": {},
   "outputs": [
    {
     "name": "stdout",
     "output_type": "stream",
     "text": [
      "k: 1\n",
      "eigvals: [0.02570456 3.92464735 8.54964809]\n",
      "eigvecs:  [[-0.93721611  0.34872349 -0.00422998]\n",
      " [ 0.34088682  0.91345884 -0.22223662]\n",
      " [ 0.07363522  0.20972569  0.97498358]]\n",
      "X_new:  [[ 4.26040526 10.44235399]\n",
      " [ 4.40506477  4.96788709]\n",
      " [ 6.88131229  7.77270534]\n",
      " [ 6.65907566  8.68616419]\n",
      " [-0.38804605  8.1315432 ]]\n"
     ]
    }
   ],
   "source": [
    "# 2）使用协方差矩阵对角化方法对数据进行降维\n",
    "# demean\n",
    "X_demean = X - np.mean(X,axis=0)\n",
    "# 计算协方差矩阵\n",
    "cov = X_demean.T.dot(X_demean) / (len(X_demean)-1)\n",
    "# 对协方差矩阵进行特征值分解（对角化）\n",
    "eigvals, eigvecs = np.linalg.eig(cov)\n",
    "# 新样本的协方差矩阵\n",
    "cov_new = eigvecs.T.dot(cov).dot(eigvecs)\n",
    "# 选择合适的k\n",
    "sorted_index = np.argsort(-eigvals)\n",
    "sum_power = sum(eigvals);\n",
    "cur_power = 0;\n",
    "for k in range(len(eigvals)):  \n",
    "    cur_power += eigvals[sorted_index[k]]  \n",
    "    if cur_power / sum_power > 0.9:     \n",
    "        break;\n",
    "\n",
    "print(\"k:\",k)\n",
    "# 降维\n",
    "X_new = X.dot(eigvecs[:,sorted_index[0:k+1]])\n",
    "print(\"eigvals:\",eigvals)\n",
    "print(\"eigvecs: \", eigvecs)\n",
    "print(\"X_new: \",X_new)"
   ]
  },
  {
   "cell_type": "code",
   "execution_count": 3,
   "id": "bac91ada-f905-47c8-a30c-a556b539761e",
   "metadata": {},
   "outputs": [
    {
     "name": "stdout",
     "output_type": "stream",
     "text": [
      "[8.54964809 3.92464735 0.02570456]\n",
      "V: [[ 0.00422998  0.34872349 -0.93721611]\n",
      " [ 0.22223662  0.91345884  0.34088682]\n",
      " [-0.97498358  0.20972569  0.07363522]]\n"
     ]
    }
   ],
   "source": [
    "# 3）使用SVD来降维\n",
    "U,Sigma,V_T = np.linalg.svd(X_demean)\n",
    "print(Sigma**2 / (len(X_demean)-1))\n",
    "print(\"V:\", V_T.T)"
   ]
  },
  {
   "cell_type": "code",
   "execution_count": 4,
   "id": "c26c8bda-5964-4ae5-9688-1e9096ebe77c",
   "metadata": {},
   "outputs": [
    {
     "name": "stdout",
     "output_type": "stream",
     "text": [
      "k:  1\n",
      "[[ 4.26040526 10.44235399]\n",
      " [ 4.40506477  4.96788709]\n",
      " [ 6.88131229  7.77270534]\n",
      " [ 6.65907566  8.68616419]\n",
      " [-0.38804605  8.1315432 ]]\n",
      "[[-4.26040526 10.44235399]\n",
      " [-4.40506477  4.96788709]\n",
      " [-6.88131229  7.77270534]\n",
      " [-6.65907566  8.68616419]\n",
      " [ 0.38804605  8.1315432 ]]\n"
     ]
    }
   ],
   "source": [
    "# 选择合适的k\n",
    "sorted_index = np.argsort(-Sigma)\n",
    "sum_power = sum(Sigma)\n",
    "cur_power = 0\n",
    "for k in range(len(Sigma)):    \n",
    "    cur_power += Sigma[sorted_index[k]]   \n",
    "    if cur_power / sum_power > 0.9:        \n",
    "        break;\n",
    "\n",
    "print(\"k: \",k)\n",
    "\n",
    "# 降维\n",
    "X_new2 = X.dot(V_T.T[:,sorted_index[0:k+1]])\n",
    "\n",
    "print(X_new) # cov矩阵的特征值分解降维结果\n",
    "print(X_new2) # 样本矩阵SVD分解降维结果"
   ]
  },
  {
   "cell_type": "code",
   "execution_count": null,
   "id": "1303cb18-81f9-4f63-87a3-f9f8fc31b726",
   "metadata": {},
   "outputs": [],
   "source": []
  }
 ],
 "metadata": {
  "kernelspec": {
   "display_name": "Python 3 (ipykernel)",
   "language": "python",
   "name": "python3"
  },
  "language_info": {
   "codemirror_mode": {
    "name": "ipython",
    "version": 3
   },
   "file_extension": ".py",
   "mimetype": "text/x-python",
   "name": "python",
   "nbconvert_exporter": "python",
   "pygments_lexer": "ipython3",
   "version": "3.9.16"
  }
 },
 "nbformat": 4,
 "nbformat_minor": 5
}
