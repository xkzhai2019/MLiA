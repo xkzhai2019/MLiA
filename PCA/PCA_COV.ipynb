{
 "cells": [
  {
   "cell_type": "markdown",
   "id": "2f0caff3-7bf3-4f36-8315-1f07100893d5",
   "metadata": {},
   "source": [
    "#### 通过协方差矩阵的特征值分解，实现PCA"
   ]
  },
  {
   "cell_type": "code",
   "execution_count": 1,
   "id": "8f0cc6b6-6a27-4d2c-b10e-65bb42ea4dd5",
   "metadata": {},
   "outputs": [
    {
     "data": {
      "text/plain": [
       "array([[ 30.57875485,   4.20436783, -14.27598789, -20.04509528],\n",
       "       [  1.53753697, -12.2702763 ,  25.60342509,   5.51601509],\n",
       "       [ -8.65661849,  19.40641074, -17.876841  ,  25.13441867],\n",
       "       [ 11.07467223,   9.42011905,  26.09898637,   3.27154446],\n",
       "       [ -1.97244022, -18.22727899,  -5.38437776,  -3.13973552],\n",
       "       [ -8.68784633, -13.55652489,  13.78966229, -21.33390753],\n",
       "       [ -3.08695825,  14.00582903,  11.1570016 ,  12.2212398 ],\n",
       "       [-14.40564799,  12.16896719, -11.57289556,   9.81837377],\n",
       "       [  8.69124488,   0.75569886,  -9.12138984,  11.07516197],\n",
       "       [-15.07269764, -15.90731252, -18.41758331, -22.51801543]])"
      ]
     },
     "execution_count": 1,
     "metadata": {},
     "output_type": "execute_result"
    }
   ],
   "source": [
    "# 创建测试数据，10个样本，4维特征\n",
    "import numpy as np\n",
    "\n",
    "X = np.random.rand(10,4)*50\n",
    "# 对原样本进行demean操作\n",
    "X_demean = X - np.mean(X,axis=0)\n",
    "X_demean"
   ]
  },
  {
   "cell_type": "code",
   "execution_count": 2,
   "id": "4e9145ac-40b1-4d87-8f67-e2e63dbc3cec",
   "metadata": {},
   "outputs": [
    {
     "data": {
      "text/plain": [
       "array([[192.68386977,  25.28391089,  29.78146447, -37.53160317],\n",
       "       [ 25.28391089, 194.16195093, -29.17062322, 152.2542612 ],\n",
       "       [ 29.78146447, -29.17062322, 306.67130823,  13.62249776],\n",
       "       [-37.53160317, 152.2542612 ,  13.62249776, 268.349691  ]])"
      ]
     },
     "execution_count": 2,
     "metadata": {},
     "output_type": "execute_result"
    }
   ],
   "source": [
    "# 2）计算协方差矩阵\n",
    "cov = (X_demean.T.dot(X_demean)) / (len(X_demean)-1)\n",
    "cov"
   ]
  },
  {
   "cell_type": "code",
   "execution_count": 3,
   "id": "e8c3af43-239a-4f14-9ee0-4db6705eb96a",
   "metadata": {},
   "outputs": [
    {
     "name": "stdout",
     "output_type": "stream",
     "text": [
      "[ 54.38343944 202.93568884 314.48503033 390.06266132]\n",
      "[[-0.32476625  0.92257935  0.18901156 -0.08745777]\n",
      " [ 0.72748824  0.31221115  0.00874401  0.61090802]\n",
      " [ 0.15400985 -0.15540276  0.96862988 -0.11784357]\n",
      " [-0.58443881 -0.16498948  0.16110348  0.77798163]]\n"
     ]
    }
   ],
   "source": [
    "# 对协方差矩阵进行特征值分解（对角化）\n",
    "eigvals, eigvecs = np.linalg.eig(cov)\n",
    "print(eigvals)\n",
    "print(eigvecs)"
   ]
  },
  {
   "cell_type": "code",
   "execution_count": 6,
   "id": "779eb06b-d267-407a-9774-69297ceaa879",
   "metadata": {},
   "outputs": [
    {
     "name": "stdout",
     "output_type": "stream",
     "text": [
      "[[ 5.43834394e+01  2.70666541e-14 -3.83814736e-14 -1.24240311e-14]\n",
      " [ 4.21762442e-14  2.02935689e+02 -3.54895552e-15  5.65949684e-14]\n",
      " [-3.68931716e-14  1.54323410e-16  3.14485030e+02 -2.78334713e-13]\n",
      " [ 2.40760173e-14  5.69425761e-14 -2.83528051e-13  3.90062661e+02]]\n"
     ]
    }
   ],
   "source": [
    "# 新的协方差矩阵\n",
    "cov_new = eigvecs.T.dot(cov).dot(eigvecs)\n",
    "print(cov_new)"
   ]
  },
  {
   "cell_type": "code",
   "execution_count": 16,
   "id": "80e62dd5-9be3-4a89-916f-e0e9eff04355",
   "metadata": {},
   "outputs": [
    {
     "name": "stdout",
     "output_type": "stream",
     "text": [
      "new: [[-14.01825014 -11.24098197  35.04973591]\n",
      " [ -6.35632039  25.87221265  -7.30134455]\n",
      " [ 34.27340738 -14.73331112  -3.29632379]\n",
      " [  4.25586389  27.98292583   8.56270515]\n",
      " [-12.77082796  -6.25348494  -6.15572183]\n",
      " [-25.74438145   8.15947042 -10.87080718]\n",
      " [ 17.01937094  12.31488566  -2.22539276]\n",
      " [ 17.69631127 -12.24450665  -9.31253455]\n",
      " [  9.39271541  -5.40165001   7.84450464]\n",
      " [-23.74788895 -24.45555987 -12.29482104]]\n",
      "cov_new: [[ 3.90062661e+02 -2.73080165e-13  5.84158087e-14]\n",
      " [-2.73080165e-13  3.14485030e+02  2.38638962e-15]\n",
      " [ 5.84158087e-14  2.38638962e-15  2.02935689e+02]]\n"
     ]
    }
   ],
   "source": [
    "# 将特征值从大到小排列，取前3个特征值，得到降维数据\n",
    "sorted_index = np.argsort(-eigvals)\n",
    "\n",
    "X_new = X_demean.dot(eigvecs[:,sorted_index[0:3]])\n",
    "print(\"new:\",X_new)\n",
    "print(\"cov_new:\",(X_new.T.dot(X_new)) / (len(X_new)-1)) # 降维数据的协方差矩阵"
   ]
  },
  {
   "cell_type": "code",
   "execution_count": 19,
   "id": "20097e28-a259-42ef-ac2d-6594c555736d",
   "metadata": {},
   "outputs": [
    {
     "name": "stdout",
     "output_type": "stream",
     "text": [
      "[[12.94147898 13.82202912 48.54270727]\n",
      " [20.60340873 50.93522375  6.19162681]\n",
      " [61.2331365  10.32969997 10.19664758]\n",
      " [31.21559301 53.04593692 22.05567651]\n",
      " [14.18890116 18.80952615  7.33724954]\n",
      " [ 1.21534767 33.22248152  2.62216418]\n",
      " [43.97910006 37.37789676 11.2675786 ]\n",
      " [44.65604039 12.81850444  4.18043681]\n",
      " [36.35244452 19.66136108 21.33747601]\n",
      " [ 3.21184017  0.60745122  1.19815032]]\n",
      "降维后的协方差矩阵： [[ 3.90062661e+02 -2.76337653e-13  4.57839378e-14]\n",
      " [-2.76337653e-13  3.14485030e+02  2.61875269e-14]\n",
      " [ 4.57839378e-14  2.61875269e-14  2.02935689e+02]]\n"
     ]
    }
   ],
   "source": [
    "# demean与数据压缩\n",
    "# 选择合适的k\n",
    "sorted_index = np.argsort(-eigvals)\n",
    "sum_power = sum(eigvals);\n",
    "cur_power = 0;\n",
    "for k in range(len(eigvals)):    \n",
    "    cur_power += eigvals[sorted_index[k]]    \n",
    "    if cur_power / sum_power > 0.9:        \n",
    "        break;\n",
    "\n",
    "# 降维\n",
    "X_new2 = X.dot(eigvecs[:,sorted_index[0:k+1]])\n",
    "print(X_new2)\n",
    "print('降维后的协方差矩阵：',((X_new2-np.mean(X_new2,axis=0)).T.dot(X_new2-np.mean(X_new2,axis=0))) / (len(X_new2)-1)) "
   ]
  },
  {
   "cell_type": "code",
   "execution_count": null,
   "id": "f53e9f34-8cf5-4668-a077-6495d901a897",
   "metadata": {},
   "outputs": [],
   "source": []
  }
 ],
 "metadata": {
  "kernelspec": {
   "display_name": "Python 3 (ipykernel)",
   "language": "python",
   "name": "python3"
  },
  "language_info": {
   "codemirror_mode": {
    "name": "ipython",
    "version": 3
   },
   "file_extension": ".py",
   "mimetype": "text/x-python",
   "name": "python",
   "nbconvert_exporter": "python",
   "pygments_lexer": "ipython3",
   "version": "3.9.16"
  }
 },
 "nbformat": 4,
 "nbformat_minor": 5
}
