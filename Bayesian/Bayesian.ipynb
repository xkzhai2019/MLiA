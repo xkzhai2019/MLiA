{
 "cells": [
  {
   "cell_type": "markdown",
   "id": "1aa50bf5-cea4-44a1-ae5e-fcc1e5117ca6",
   "metadata": {},
   "source": [
    "#### 朴素贝叶斯"
   ]
  },
  {
   "cell_type": "code",
   "execution_count": 1,
   "id": "7b6cd12e-35d3-4325-b49d-458a96693064",
   "metadata": {},
   "outputs": [],
   "source": [
    "import numpy as np\n",
    "\n",
    "def loaddata():\n",
    "    X = np.array([[1,'S'],[1,'M'],[1,'M'],[1,'S'],[1,'S'],\n",
    "                  [2,'S'],[2,'M'],[2,'M'],[2,'L'],[2,'L'],\n",
    "                  [3,'L'],[3,'M'],[3,'M'],[3,'L'],[3,'L']])\n",
    "    y = np.array([-1,-1,1,1,-1,-1,-1,1,1,1,1,1,1,1,-1])\n",
    "    return X, y"
   ]
  },
  {
   "cell_type": "markdown",
   "id": "d4b365e4-5dc4-41fa-9bf7-a89068c3099e",
   "metadata": {},
   "source": [
    "##### 计算各个概率值"
   ]
  },
  {
   "cell_type": "markdown",
   "id": "48179325-a16f-41cd-9ba1-747f66653515",
   "metadata": {},
   "source": [
    "$p(y_i|x)=p(x_1|y_i)p(x_2|y_i)...p(x_n|y_i)p(y_i)$"
   ]
  },
  {
   "cell_type": "code",
   "execution_count": 2,
   "id": "662d3ac7-c2fd-4a86-8b45-3c6e3ac5fe79",
   "metadata": {},
   "outputs": [],
   "source": [
    "def train(trainset,train_labels):\n",
    "    m = trainset.shape[0] # 数据量\n",
    "    n = trainset.shape[1] # 特征数\n",
    "    piority_prob = {} # 先验概率 key：标签，value：概率\n",
    "    condition_prob = {} # 条件概率 key：标签，属性，属性值\n",
    "    \n",
    "    \n",
    "    return m"
   ]
  },
  {
   "cell_type": "code",
   "execution_count": 4,
   "id": "2d1d81d5-0ecb-4d65-96d5-7d368c449ae5",
   "metadata": {},
   "outputs": [
    {
     "data": {
      "text/plain": [
       "15"
      ]
     },
     "execution_count": 4,
     "metadata": {},
     "output_type": "execute_result"
    }
   ],
   "source": [
    "X,y=loaddata()\n",
    "\n",
    "train(X,y)"
   ]
  },
  {
   "cell_type": "code",
   "execution_count": null,
   "id": "06e6516a-9b08-4abb-b946-af7b65a5913d",
   "metadata": {},
   "outputs": [],
   "source": []
  },
  {
   "cell_type": "code",
   "execution_count": null,
   "id": "26fe51ac-a8ee-4742-beb8-10e08e355460",
   "metadata": {},
   "outputs": [],
   "source": []
  }
 ],
 "metadata": {
  "kernelspec": {
   "display_name": "Python 3 (ipykernel)",
   "language": "python",
   "name": "python3"
  },
  "language_info": {
   "codemirror_mode": {
    "name": "ipython",
    "version": 3
   },
   "file_extension": ".py",
   "mimetype": "text/x-python",
   "name": "python",
   "nbconvert_exporter": "python",
   "pygments_lexer": "ipython3",
   "version": "3.9.1"
  }
 },
 "nbformat": 4,
 "nbformat_minor": 5
}
