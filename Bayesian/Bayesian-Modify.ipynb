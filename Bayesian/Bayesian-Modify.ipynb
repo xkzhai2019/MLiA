{
 "cells": [
  {
   "cell_type": "markdown",
   "id": "1aa50bf5-cea4-44a1-ae5e-fcc1e5117ca6",
   "metadata": {},
   "source": [
    "#### 朴素贝叶斯修正"
   ]
  },
  {
   "cell_type": "code",
   "execution_count": 1,
   "id": "7b6cd12e-35d3-4325-b49d-458a96693064",
   "metadata": {},
   "outputs": [],
   "source": [
    "import numpy as np\n",
    "\n",
    "def loaddata():\n",
    "    X = np.array([[1,'S'],[1,'M'],[1,'M'],[1,'S'],[1,'S'],\n",
    "                  [2,'S'],[2,'M'],[2,'M'],[2,'L'],[2,'L'],\n",
    "                  [3,'L'],[3,'M'],[3,'M'],[3,'L'],[3,'L']])\n",
    "    y = np.array([-1,-1,1,1,-1,-1,-1,1,1,1,1,1,1,1,-1])\n",
    "    return X, y"
   ]
  },
  {
   "cell_type": "markdown",
   "id": "d4b365e4-5dc4-41fa-9bf7-a89068c3099e",
   "metadata": {},
   "source": [
    "##### 计算各个概率值"
   ]
  },
  {
   "cell_type": "markdown",
   "id": "48179325-a16f-41cd-9ba1-747f66653515",
   "metadata": {},
   "source": [
    "$p(y_i|x)=p(x_1|y_i)p(x_2|y_i)...p(x_n|y_i)p(y_i)$"
   ]
  },
  {
   "cell_type": "code",
   "execution_count": 34,
   "id": "662d3ac7-c2fd-4a86-8b45-3c6e3ac5fe79",
   "metadata": {},
   "outputs": [],
   "source": [
    "def train(trainset,train_labels):\n",
    "    m = trainset.shape[0] # 数据量\n",
    "    n = trainset.shape[1] # 特征数\n",
    "    piority_prob = {} # 先验概率 key：标签，value：概率\n",
    "    condition_prob = {} # 条件概率 key：标签，属性，属性值\n",
    "\n",
    "    # 计算先验概率：这里先计算各标签的数量，后面再计算最终的概率\n",
    "    # 类别可能的取值\n",
    "    label_set = set(train_labels)\n",
    "    for label in label_set:\n",
    "        # print(label,':',sum(train_labels==label))\n",
    "        piority_prob[str(label)] = sum(train_labels==label)\n",
    "        \n",
    "    # 计算条件概率\n",
    "    for i in range(m):\n",
    "        for j in range(n):\n",
    "            key = str(train_labels[i])+','+str(j)+','+str(trainset[i][j])\n",
    "            if key not in condition_prob.keys():\n",
    "                condition_prob[key] = 0\n",
    "            condition_prob[key] += 1\n",
    "\n",
    "    condition_prob_final = {}\n",
    "    for key in condition_prob.keys():\n",
    "        '''\n",
    "        原代码：\n",
    "        label = key.split(',')[0]\n",
    "        condition_prob_final[key] =  condition_prob[key]/piority_prob[label] \n",
    "        '''\n",
    "        label = key.split(',')[0]\n",
    "        index = key.split(',')[1]\n",
    "        condition_prob_final[key] =  (condition_prob[key] + 1)/(piority_prob[label]+ len(set(trainset[train_labels == int(label),int(index)]))) \n",
    "\n",
    "    # 先验概率的最终结果\n",
    "    piority_prob_final = {}\n",
    "    for key in piority_prob.keys():\n",
    "        '''\n",
    "        原代码：\n",
    "        piority_prob_final[key] = piority_prob[key] / m\n",
    "        '''\n",
    "        piority_prob_final[key] = (piority_prob[key] + 1) / (m + len(label_set))\n",
    "    \n",
    "    return piority_prob_final, condition_prob_final, label_set"
   ]
  },
  {
   "cell_type": "code",
   "execution_count": 35,
   "id": "2d1d81d5-0ecb-4d65-96d5-7d368c449ae5",
   "metadata": {},
   "outputs": [
    {
     "name": "stdout",
     "output_type": "stream",
     "text": [
      "piority_prob= {'1': np.float64(0.5882352941176471), '-1': np.float64(0.4117647058823529)}\n",
      "condition_prob= {'-1,0,1': np.float64(0.4444444444444444), '-1,1,S': np.float64(0.4444444444444444), '-1,1,M': np.float64(0.3333333333333333), '1,0,1': np.float64(0.25), '1,1,M': np.float64(0.4166666666666667), '1,1,S': np.float64(0.16666666666666666), '-1,0,2': np.float64(0.3333333333333333), '1,0,2': np.float64(0.3333333333333333), '1,1,L': np.float64(0.4166666666666667), '1,0,3': np.float64(0.4166666666666667), '-1,0,3': np.float64(0.2222222222222222), '-1,1,L': np.float64(0.2222222222222222)}\n",
      "{np.int64(1), np.int64(-1)}\n"
     ]
    }
   ],
   "source": [
    "X,y=loaddata()\n",
    "\n",
    "piority_prob, condition_prob, labels_set = train(X,y)\n",
    "print('piority_prob=',str(piority_prob))\n",
    "print('condition_prob=',str(condition_prob))\n",
    "print(str(labels_set))"
   ]
  },
  {
   "cell_type": "markdown",
   "id": "3a0106e2-9c65-4938-96ca-1ddd66b093f3",
   "metadata": {},
   "source": [
    "##### 利用贝叶斯模型预测新样本的分类"
   ]
  },
  {
   "cell_type": "code",
   "execution_count": 36,
   "id": "26fe51ac-a8ee-4742-beb8-10e08e355460",
   "metadata": {},
   "outputs": [],
   "source": [
    "def predict(data, piority_prob, condition_prob, labels_set):\n",
    "    result = {} # 存储后验概率\n",
    "    for label in labels_set:\n",
    "        temp = 1.0\n",
    "        # 累乘条件概率\n",
    "        for i in range(len(data)):\n",
    "            key = str(label) + ',' + str(i)+','+str(data[i])\n",
    "            temp *= condition_prob[key]\n",
    "        # 最后乘以先验概率\n",
    "        temp *= piority_prob[str(label)]\n",
    "        result[label] = temp\n",
    "    print('result=',result)\n",
    "\n",
    "    return sorted(result.items(),key=lambda x: x[1],reverse=True)[0][0]"
   ]
  },
  {
   "cell_type": "code",
   "execution_count": 37,
   "id": "9be2919b-abae-4d29-9fdd-eb9ff7a52eac",
   "metadata": {},
   "outputs": [
    {
     "name": "stdout",
     "output_type": "stream",
     "text": [
      "result= {np.int64(1): np.float64(0.032679738562091505), np.int64(-1): np.float64(0.061002178649237467)}\n",
      "y_hat= -1\n"
     ]
    }
   ],
   "source": [
    "y_hat = predict([2,'S'],piority_prob, condition_prob, labels_set)\n",
    "print('y_hat=',y_hat)"
   ]
  },
  {
   "cell_type": "code",
   "execution_count": null,
   "id": "0f2995fa-b353-4285-9188-be08e622db1a",
   "metadata": {},
   "outputs": [],
   "source": []
  }
 ],
 "metadata": {
  "kernelspec": {
   "display_name": "Python 3 (ipykernel)",
   "language": "python",
   "name": "python3"
  },
  "language_info": {
   "codemirror_mode": {
    "name": "ipython",
    "version": 3
   },
   "file_extension": ".py",
   "mimetype": "text/x-python",
   "name": "python",
   "nbconvert_exporter": "python",
   "pygments_lexer": "ipython3",
   "version": "3.9.16"
  }
 },
 "nbformat": 4,
 "nbformat_minor": 5
}
