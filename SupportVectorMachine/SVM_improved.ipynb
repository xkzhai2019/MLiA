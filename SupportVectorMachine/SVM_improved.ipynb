{
 "cells": [
  {
   "cell_type": "markdown",
   "id": "09f6e915-10ad-4022-a5f3-364fb1ae4c33",
   "metadata": {},
   "source": [
    "#### SVM 实现（改进版）"
   ]
  },
  {
   "cell_type": "code",
   "execution_count": 1,
   "id": "11d7d831-ce45-4dd1-92cf-7e7d5a05ffb4",
   "metadata": {},
   "outputs": [],
   "source": [
    "# (1) 导入相关包\n",
    "\n",
    "from numpy import *\n",
    "import matplotlib as mpl\n",
    "import matplotlib.pyplot as plt\n",
    "\n",
    "from matplotlib.patches import Circle"
   ]
  },
  {
   "cell_type": "code",
   "execution_count": 2,
   "id": "e2fe9403-e999-458e-bfbc-66ee662aff26",
   "metadata": {},
   "outputs": [],
   "source": [
    "# (2) 加载数据\n",
    "\n",
    "def loaddata(fileName):\n",
    "    dataMat = []; labelMat = [];\n",
    "    fr = open(fileName)\n",
    "    for line in fr.readlines():\n",
    "        lineArr = line.strip().split('\\t')\n",
    "        dataMat.append([float(lineArr[0]),float(lineArr[1])])\n",
    "        labelMat.append(float(lineArr[2]))\n",
    "    return dataMat, labelMat"
   ]
  },
  {
   "cell_type": "code",
   "execution_count": 3,
   "id": "9bbd1dac-0c7e-4cd2-8fe2-92dfe41990ed",
   "metadata": {},
   "outputs": [],
   "source": [
    "# (3) 随机选择第二个样本\n",
    "def selectJrand(i,m):\n",
    "    j = i\n",
    "    while(j==i):\n",
    "        j = int(random.uniform(0,m))\n",
    "    return j"
   ]
  },
  {
   "cell_type": "code",
   "execution_count": 4,
   "id": "69e0ed9a-0020-4e84-92fe-a828fa396504",
   "metadata": {},
   "outputs": [],
   "source": [
    "# (4) 剪辑\n",
    "def clipAlpha(aj,H,L):\n",
    "    if aj>H:\n",
    "        aj = H\n",
    "    if aj<L:\n",
    "        aj = L\n",
    "    return aj"
   ]
  },
  {
   "cell_type": "markdown",
   "id": "8fcedb16-c089-4b6c-8a6f-8aeb3e8570e7",
   "metadata": {},
   "source": [
    "##### 改进点：选择第二个待优化的$\\alpha_j$时，选择误差最大的那个"
   ]
  },
  {
   "cell_type": "code",
   "execution_count": 50,
   "id": "c3a139c0-194a-4910-91a5-43204ac9ffce",
   "metadata": {},
   "outputs": [],
   "source": [
    "# 定义一个新的数据结构\n",
    "class optStruct:\n",
    "    def __init__(self,dataMatIn,classLabels,C,toler):\n",
    "        self.dataMatrix = dataMatIn\n",
    "        self.labelMat = classLabels\n",
    "        self.C = C\n",
    "        self.tol = toler\n",
    "        self.m = shape(dataMatIn)[0]\n",
    "        self.alphas = matrix(zeros((self.m,1)))\n",
    "        self.b = 0\n",
    "        self.eCache = matrix(zeros((self.m,2))) # 第一列代表标识位，0无效，1有效；第二列样本对应的Ei值"
   ]
  },
  {
   "cell_type": "code",
   "execution_count": 130,
   "id": "6d681257-5404-4205-97f5-6916354e5007",
   "metadata": {},
   "outputs": [],
   "source": [
    "# 计算Ek\n",
    "def calEk(oS,k):\n",
    "    fXk = float(multiply(oS.alphas,oS.labelMat).T * (oS.dataMatrix*(oS.dataMatrix[k,:].T))) + oS.b\n",
    "\n",
    "#    print(type(oS.b))\n",
    "    Ek = fXk - float(oS.labelMat[k])\n",
    "#    print(Ek)\n",
    "#    print(type(Ek))\n",
    "    return Ek"
   ]
  },
  {
   "cell_type": "code",
   "execution_count": 100,
   "id": "1e45fcc6-fcdb-4033-b9fa-04d83a8fab7e",
   "metadata": {},
   "outputs": [],
   "source": [
    "# 选择与Ei相差最大的那个j\n",
    "def selectJ(i,oS,Ei):\n",
    "    maxK = -1; Ej = 0 # 记录与Ei相差最大的j和Ej值\n",
    "    maxDeltaE = 0;\n",
    "\n",
    "    oS.eCache[i,:] = [1,Ei] # 设为有效\n",
    "    validEcacheList = nonzero(oS.eCache[:,0].A)[0] # 取出所有有效的Ek\n",
    "    if (len(validEcacheList))>1:\n",
    "        for k in validEcacheList:\n",
    "            if k==i: continue # 不能与i相等\n",
    "            Ek = calEk(oS,k)\n",
    "            deltaE = abs(Ei-Ek)\n",
    "            if(deltaE > maxDeltaE):\n",
    "                maxK = k; maxDeltaE = deltaE; Ej = Ek\n",
    "        return maxK, Ej\n",
    "    else: # 如果没有有效的Ek,随机选择一个\n",
    "        j = selectJrand(i,oS.m)\n",
    "        Ej = calEk(oS,j)\n",
    "        return j, Ej"
   ]
  },
  {
   "cell_type": "code",
   "execution_count": 76,
   "id": "d7b2ab7e-7aec-447a-939e-881bd94acc4d",
   "metadata": {},
   "outputs": [],
   "source": [
    "# 更新缓存\n",
    "def updateEk(oS,k):\n",
    "    Ek = calEk(oS,k)\n",
    "    oS.eCache[k,:] = [1,Ek]"
   ]
  },
  {
   "cell_type": "code",
   "execution_count": 145,
   "id": "3c6188c0-08da-4359-9ae8-0ca1b5517972",
   "metadata": {},
   "outputs": [],
   "source": [
    "# 更新参数，返回是否更新成功\n",
    "def innerL(i,oS):\n",
    "    Ei = calEk(oS,i)\n",
    "    print(Ei)\n",
    "    if((oS.labelMat[i]*Ei < -oS.tol) and (oS.alphas[i]<oS.C)) or ((oS.labelMat[i]*Ei>oS.tol) and (oS.alphas[i]>0)):\n",
    "        j, Ej = selectJ(i,oS,Ei) # 不再随机选取，而是选择与Ei相差最大的\n",
    "        alphaIold = oS.alphas[i,0].copy()\n",
    "        alphaJold = oS.alphas[j,0].copy()\n",
    "\n",
    "        # 计算eta\n",
    "        eta = 2.0*oS.dataMatrix[i,:]*oS.dataMatrix[j,:].T - oS.dataMatrix[i,:]*oS.dataMatrix[i,:].T - oS.dataMatrix[j,:]*oS.dataMatrix[j,:].T\n",
    "        if eta >= 0: print(\"eta>=0\"); return 0 # 理论上来说，eta始终小于0\n",
    "        \n",
    "        # 计算上下界\n",
    "        if (oS.labelMat[i] != oS.labelMat[j]):\n",
    "            L = max([0,alphaJold-alphaIold])\n",
    "            H = min([oS.C,oS.C-alphaIold+alphaJold])\n",
    "        else:\n",
    "            L = max([0,alphaJold+alphaIold-oS.C])\n",
    "            H = min([oS.C,alphaIold+alphaJold])\n",
    "\n",
    "        if L==H: print(\"L==H\"); return 0\n",
    "\n",
    "         # 计算alphaj并剪辑\n",
    "        oS.alphas[j,0] -= oS.labelMat[j]*(Ei-Ej)/eta\n",
    "        oS.alphas[j,0] = clipAlpha(oS.alphas[j],H,L)\n",
    "        updateEk(oS,j) # 更新缓存\n",
    "\n",
    "        if (abs(oS.alphas[j,0] - alphaJold) < 0.00001): print(\"j not moving enough\"); return 0\n",
    "        # 计算alpha i \n",
    "        oS.alphas[i,0] += oS.labelMat[i]*oS.labelMat[j]*(alphaJold - oS.alphas[j,0])\n",
    "        \n",
    "        # 计算b1\n",
    "        b1 = -Ei + oS.labelMat[i]*oS.dataMatrix[i,:]*(oS.dataMatrix[i,:].T) * (alphaIold - oS.alphas[i,0]) + oS.labelMat[j]*oS.dataMatrix[i,:]*(oS.dataMatrix[j,:].T) * (alphaJold - oS.alphas[j,0]) +  oS.b\n",
    "        # 计算b2\n",
    "        b2 = -Ej + oS.labelMat[i]*oS.dataMatrix[i,:]*(oS.dataMatrix[j,:].T) * (alphaIold - oS.alphas[i,0]) + oS.labelMat[j]*oS.dataMatrix[j,:]*(oS.dataMatrix[j,:].T) * (alphaJold - oS.alphas[j,0]) +  oS.b\n",
    "        \n",
    "        # 决定b\n",
    "        if (oS.alphas[i]>0) and (oS.alphas[i]<oS.C): \n",
    "            oS.b = b1[0][0]\n",
    "        elif (oS.alphas[j]>0) and (oS.alphas[j]<oS.C):\n",
    "            oS.b = b2[0][0]\n",
    "        else:\n",
    "            oS.b = (b1[0][0]+b2[0][0])/2.0\n",
    "        return 1\n",
    "    else:\n",
    "        return 0"
   ]
  },
  {
   "cell_type": "code",
   "execution_count": 139,
   "id": "02ccae23-db3f-4d54-9c61-b2ff824ae775",
   "metadata": {},
   "outputs": [
    {
     "data": {
      "text/plain": [
       "array([1])"
      ]
     },
     "execution_count": 139,
     "metadata": {},
     "output_type": "execute_result"
    }
   ],
   "source": [
    "nonzero(E[:,0].A)[0]"
   ]
  },
  {
   "cell_type": "code",
   "execution_count": 140,
   "id": "c254ffea-5a88-43c2-a857-55a699c8356a",
   "metadata": {},
   "outputs": [],
   "source": [
    "# (6) 改进的SMO算法\n",
    "def smoP(dataMatIn,classLabels,C,toler,maxIter):\n",
    "    oS = optStruct(matrix(dataMatIn),matrix(classLabels).transpose(),C,toler)\n",
    "    iter = 0\n",
    "    entireSet = True\n",
    "    alphaPairsChanged = 0\n",
    "    while(iter<maxIter) and ((alphaPairsChanged>0) or entireSet): # 如果未达到最大迭代次数，或者上一次迭代时，有成功更新\n",
    "        alphaPairsChanged = 0\n",
    "        if entireSet: # 遍历全部数据集\n",
    "            for i in range(oS.m):\n",
    "                alphaPairsChanged += innerL(i,oS)\n",
    "                print(\"fullSet, iter: %d i: %d, pairs changed: %d\" % (iter, i, alphaPairsChanged))\n",
    "            iter += 1\n",
    "        else: # 遍历非边界数据集\n",
    "            nonBoundIs = nonzero((oS.alphas.A>0) * (oS.alphas.A<C))[0]\n",
    "            for i in nonBoundIs:\n",
    "                alphaPairsChanged += innerL(i,oS)\n",
    "                print(\"non-bound, iter: %d i: %d, pairs changed: %d\" % (iter, i, alphaPairsChanged))\n",
    "            iter += 1\n",
    "        if entireSet:\n",
    "            entireSet = False\n",
    "        elif (alphaPairsChanged==0):\n",
    "            entireSet = True\n",
    "        print(\"iteration num: %d\" % iter)\n",
    "    return oS.b, oS.alphas\n",
    "        "
   ]
  },
  {
   "cell_type": "code",
   "execution_count": 141,
   "id": "717c3b12-19bd-4641-b381-1ac45240c550",
   "metadata": {},
   "outputs": [],
   "source": [
    "def calcWs(alphas,dataArr,classLabels):\n",
    "    X = matrix(dataArr); labelMat = matrix(classLabels).transpose()\n",
    "    m,n = shape(X)\n",
    "    w = zeros((n,1))\n",
    "    for i in range(m):\n",
    "        w += multiply(alphas[i]*labelMat[i],X[i,:].T)\n",
    "    return w"
   ]
  },
  {
   "cell_type": "code",
   "execution_count": 146,
   "id": "5946ff9a-60ef-4f68-a644-0845d0a45651",
   "metadata": {},
   "outputs": [
    {
     "name": "stdout",
     "output_type": "stream",
     "text": [
      "1.0\n",
      "<class 'numpy.matrix'>\n",
      "fullSet, iter: 0 i: 0, pairs changed: 1\n",
      "[[-0.29781118]]\n",
      "fullSet, iter: 0 i: 1, pairs changed: 1\n",
      "[[0.15484367]]\n",
      "fullSet, iter: 0 i: 2, pairs changed: 1\n",
      "[[-0.30208703]]\n",
      "fullSet, iter: 0 i: 3, pairs changed: 1\n",
      "[[-0.0176539]]\n"
     ]
    },
    {
     "name": "stderr",
     "output_type": "stream",
     "text": [
      "/tmp/ipykernel_253559/3495206355.py:3: DeprecationWarning: Conversion of an array with ndim > 0 to a scalar is deprecated, and will error in future. Ensure you extract a single element from your array before performing this operation. (Deprecated NumPy 1.25.)\n",
      "  fXk = float(multiply(oS.alphas,oS.labelMat).T * (oS.dataMatrix*(oS.dataMatrix[k,:].T))) + oS.b\n",
      "/tmp/ipykernel_253559/3495206355.py:6: DeprecationWarning: Conversion of an array with ndim > 0 to a scalar is deprecated, and will error in future. Ensure you extract a single element from your array before performing this operation. (Deprecated NumPy 1.25.)\n",
      "  Ek = fXk - float(oS.labelMat[k])\n",
      "/tmp/ipykernel_253559/2688189026.py:25: DeprecationWarning: Conversion of an array with ndim > 0 to a scalar is deprecated, and will error in future. Ensure you extract a single element from your array before performing this operation. (Deprecated NumPy 1.25.)\n",
      "  oS.alphas[j,0] -= oS.labelMat[j]*(Ei-Ej)/eta\n",
      "/tmp/ipykernel_253559/2688189026.py:26: DeprecationWarning: Conversion of an array with ndim > 0 to a scalar is deprecated, and will error in future. Ensure you extract a single element from your array before performing this operation. (Deprecated NumPy 1.25.)\n",
      "  oS.alphas[j,0] = clipAlpha(oS.alphas[j],H,L)\n",
      "/tmp/ipykernel_253559/2688189026.py:31: DeprecationWarning: Conversion of an array with ndim > 0 to a scalar is deprecated, and will error in future. Ensure you extract a single element from your array before performing this operation. (Deprecated NumPy 1.25.)\n",
      "  oS.alphas[i,0] += oS.labelMat[i]*oS.labelMat[j]*(alphaJold - oS.alphas[j,0])\n"
     ]
    },
    {
     "ename": "ValueError",
     "evalue": "setting an array element with a sequence. The requested array has an inhomogeneous shape after 1 dimensions. The detected shape was (2,) + inhomogeneous part.",
     "output_type": "error",
     "traceback": [
      "\u001b[0;31m---------------------------------------------------------------------------\u001b[0m",
      "\u001b[0;31mValueError\u001b[0m                                Traceback (most recent call last)",
      "Cell \u001b[0;32mIn[146], line 9\u001b[0m\n\u001b[1;32m      6\u001b[0m ax\u001b[38;5;241m.\u001b[39mscatter(array(dataMat)[:,\u001b[38;5;241m0\u001b[39m],array(dataMat)[:,\u001b[38;5;241m1\u001b[39m],c\u001b[38;5;241m=\u001b[39marray(labelMat)\u001b[38;5;241m.\u001b[39msqueeze(),cmap\u001b[38;5;241m=\u001b[39mcm_dark,s\u001b[38;5;241m=\u001b[39m\u001b[38;5;241m30\u001b[39m)\n\u001b[1;32m      7\u001b[0m \u001b[38;5;66;03m# plt.show()\u001b[39;00m\n\u001b[1;32m      8\u001b[0m \u001b[38;5;66;03m###########\u001b[39;00m\n\u001b[0;32m----> 9\u001b[0m b,alphas \u001b[38;5;241m=\u001b[39m \u001b[43msmoP\u001b[49m\u001b[43m(\u001b[49m\u001b[43mdataMat\u001b[49m\u001b[43m,\u001b[49m\u001b[43mlabelMat\u001b[49m\u001b[43m,\u001b[49m\u001b[38;5;241;43m0.6\u001b[39;49m\u001b[43m,\u001b[49m\u001b[38;5;241;43m0.001\u001b[39;49m\u001b[43m,\u001b[49m\u001b[38;5;241;43m40\u001b[39;49m\u001b[43m)\u001b[49m\n\u001b[1;32m     10\u001b[0m w \u001b[38;5;241m=\u001b[39m calcWs(alphas,dataMat,labelMat)\n\u001b[1;32m     11\u001b[0m \u001b[38;5;28mprint\u001b[39m(\u001b[38;5;124m'\u001b[39m\u001b[38;5;124mb=\u001b[39m\u001b[38;5;124m'\u001b[39m,b)\n",
      "Cell \u001b[0;32mIn[140], line 11\u001b[0m, in \u001b[0;36msmoP\u001b[0;34m(dataMatIn, classLabels, C, toler, maxIter)\u001b[0m\n\u001b[1;32m      9\u001b[0m \u001b[38;5;28;01mif\u001b[39;00m entireSet: \u001b[38;5;66;03m# 遍历全部数据集\u001b[39;00m\n\u001b[1;32m     10\u001b[0m     \u001b[38;5;28;01mfor\u001b[39;00m i \u001b[38;5;129;01min\u001b[39;00m \u001b[38;5;28mrange\u001b[39m(oS\u001b[38;5;241m.\u001b[39mm):\n\u001b[0;32m---> 11\u001b[0m         alphaPairsChanged \u001b[38;5;241m+\u001b[39m\u001b[38;5;241m=\u001b[39m \u001b[43minnerL\u001b[49m\u001b[43m(\u001b[49m\u001b[43mi\u001b[49m\u001b[43m,\u001b[49m\u001b[43moS\u001b[49m\u001b[43m)\u001b[49m\n\u001b[1;32m     12\u001b[0m         \u001b[38;5;28mprint\u001b[39m(\u001b[38;5;124m\"\u001b[39m\u001b[38;5;124mfullSet, iter: \u001b[39m\u001b[38;5;132;01m%d\u001b[39;00m\u001b[38;5;124m i: \u001b[39m\u001b[38;5;132;01m%d\u001b[39;00m\u001b[38;5;124m, pairs changed: \u001b[39m\u001b[38;5;132;01m%d\u001b[39;00m\u001b[38;5;124m\"\u001b[39m \u001b[38;5;241m%\u001b[39m (\u001b[38;5;28miter\u001b[39m, i, alphaPairsChanged))\n\u001b[1;32m     13\u001b[0m     \u001b[38;5;28miter\u001b[39m \u001b[38;5;241m+\u001b[39m\u001b[38;5;241m=\u001b[39m \u001b[38;5;241m1\u001b[39m\n",
      "Cell \u001b[0;32mIn[145], line 6\u001b[0m, in \u001b[0;36minnerL\u001b[0;34m(i, oS)\u001b[0m\n\u001b[1;32m      4\u001b[0m \u001b[38;5;28mprint\u001b[39m(Ei)\n\u001b[1;32m      5\u001b[0m \u001b[38;5;28;01mif\u001b[39;00m((oS\u001b[38;5;241m.\u001b[39mlabelMat[i]\u001b[38;5;241m*\u001b[39mEi \u001b[38;5;241m<\u001b[39m \u001b[38;5;241m-\u001b[39moS\u001b[38;5;241m.\u001b[39mtol) \u001b[38;5;129;01mand\u001b[39;00m (oS\u001b[38;5;241m.\u001b[39malphas[i]\u001b[38;5;241m<\u001b[39moS\u001b[38;5;241m.\u001b[39mC)) \u001b[38;5;129;01mor\u001b[39;00m ((oS\u001b[38;5;241m.\u001b[39mlabelMat[i]\u001b[38;5;241m*\u001b[39mEi\u001b[38;5;241m>\u001b[39moS\u001b[38;5;241m.\u001b[39mtol) \u001b[38;5;129;01mand\u001b[39;00m (oS\u001b[38;5;241m.\u001b[39malphas[i]\u001b[38;5;241m>\u001b[39m\u001b[38;5;241m0\u001b[39m)):\n\u001b[0;32m----> 6\u001b[0m     j, Ej \u001b[38;5;241m=\u001b[39m \u001b[43mselectJ\u001b[49m\u001b[43m(\u001b[49m\u001b[43mi\u001b[49m\u001b[43m,\u001b[49m\u001b[43moS\u001b[49m\u001b[43m,\u001b[49m\u001b[43mEi\u001b[49m\u001b[43m)\u001b[49m \u001b[38;5;66;03m# 不再随机选取，而是选择与Ei相差最大的\u001b[39;00m\n\u001b[1;32m      7\u001b[0m     alphaIold \u001b[38;5;241m=\u001b[39m oS\u001b[38;5;241m.\u001b[39malphas[i,\u001b[38;5;241m0\u001b[39m]\u001b[38;5;241m.\u001b[39mcopy()\n\u001b[1;32m      8\u001b[0m     alphaJold \u001b[38;5;241m=\u001b[39m oS\u001b[38;5;241m.\u001b[39malphas[j,\u001b[38;5;241m0\u001b[39m]\u001b[38;5;241m.\u001b[39mcopy()\n",
      "Cell \u001b[0;32mIn[100], line 6\u001b[0m, in \u001b[0;36mselectJ\u001b[0;34m(i, oS, Ei)\u001b[0m\n\u001b[1;32m      3\u001b[0m maxK \u001b[38;5;241m=\u001b[39m \u001b[38;5;241m-\u001b[39m\u001b[38;5;241m1\u001b[39m; Ej \u001b[38;5;241m=\u001b[39m \u001b[38;5;241m0\u001b[39m \u001b[38;5;66;03m# 记录与Ei相差最大的j和Ej值\u001b[39;00m\n\u001b[1;32m      4\u001b[0m maxDeltaE \u001b[38;5;241m=\u001b[39m \u001b[38;5;241m0\u001b[39m;\n\u001b[0;32m----> 6\u001b[0m \u001b[43moS\u001b[49m\u001b[38;5;241;43m.\u001b[39;49m\u001b[43meCache\u001b[49m\u001b[43m[\u001b[49m\u001b[43mi\u001b[49m\u001b[43m,\u001b[49m\u001b[43m:\u001b[49m\u001b[43m]\u001b[49m \u001b[38;5;241m=\u001b[39m [\u001b[38;5;241m1\u001b[39m,Ei] \u001b[38;5;66;03m# 设为有效\u001b[39;00m\n\u001b[1;32m      7\u001b[0m validEcacheList \u001b[38;5;241m=\u001b[39m nonzero(oS\u001b[38;5;241m.\u001b[39meCache[:,\u001b[38;5;241m0\u001b[39m]\u001b[38;5;241m.\u001b[39mA)[\u001b[38;5;241m0\u001b[39m] \u001b[38;5;66;03m# 取出所有有效的Ek\u001b[39;00m\n\u001b[1;32m      8\u001b[0m \u001b[38;5;28;01mif\u001b[39;00m (\u001b[38;5;28mlen\u001b[39m(validEcacheList))\u001b[38;5;241m>\u001b[39m\u001b[38;5;241m1\u001b[39m:\n",
      "\u001b[0;31mValueError\u001b[0m: setting an array element with a sequence. The requested array has an inhomogeneous shape after 1 dimensions. The detected shape was (2,) + inhomogeneous part."
     ]
    },
    {
     "data": {
      "image/png": "[encoded data removed]",
      "text/plain": [
       "<Figure size 640x480 with 1 Axes>"
      ]
     },
     "metadata": {},
     "output_type": "display_data"
    }
   ],
   "source": [
    "dataMat,labelMat = loaddata('data/svm1.txt')\n",
    "#画图\n",
    "fig = plt.figure()\n",
    "ax = fig.add_subplot(111)\n",
    "cm_dark = mpl.colors.ListedColormap(['g', 'r'])\n",
    "ax.scatter(array(dataMat)[:,0],array(dataMat)[:,1],c=array(labelMat).squeeze(),cmap=cm_dark,s=30)\n",
    "# plt.show()\n",
    "###########\n",
    "b,alphas = smoP(dataMat,labelMat,0.6,0.001,40)\n",
    "w = calcWs(alphas,dataMat,labelMat)\n",
    "print('b=',b)\n",
    "print('alphas=',alphas)\n",
    "print('w=',w)"
   ]
  },
  {
   "cell_type": "code",
   "execution_count": 78,
   "id": "f604a04e-501b-441e-a7a4-3246ce061cfe",
   "metadata": {},
   "outputs": [],
   "source": [
    "eCache = matrix(zeros((5,2))) "
   ]
  },
  {
   "cell_type": "code",
   "execution_count": 79,
   "id": "3cc7cf45-6b54-4440-b658-26c64062ca40",
   "metadata": {},
   "outputs": [
    {
     "data": {
      "text/plain": [
       "matrix([[0., 0.],\n",
       "        [0., 0.],\n",
       "        [0., 0.],\n",
       "        [0., 0.],\n",
       "        [0., 0.]])"
      ]
     },
     "execution_count": 79,
     "metadata": {},
     "output_type": "execute_result"
    }
   ],
   "source": [
    "eCache"
   ]
  },
  {
   "cell_type": "code",
   "execution_count": 80,
   "id": "c2fc09af-0724-42a9-8bb6-85f737de41dc",
   "metadata": {},
   "outputs": [],
   "source": [
    "eCache[2,:] = [1,2.1]"
   ]
  },
  {
   "cell_type": "code",
   "execution_count": 81,
   "id": "564d089e-34de-4502-93f0-2fa6ff9e1713",
   "metadata": {},
   "outputs": [
    {
     "data": {
      "text/plain": [
       "matrix([[0. , 0. ],\n",
       "        [0. , 0. ],\n",
       "        [1. , 2.1],\n",
       "        [0. , 0. ],\n",
       "        [0. , 0. ]])"
      ]
     },
     "execution_count": 81,
     "metadata": {},
     "output_type": "execute_result"
    }
   ],
   "source": [
    "eCache"
   ]
  },
  {
   "cell_type": "code",
   "execution_count": null,
   "id": "17231be8-ee79-459d-83ac-ef8ea6bf8198",
   "metadata": {},
   "outputs": [],
   "source": []
  }
 ],
 "metadata": {
  "kernelspec": {
   "display_name": "Python 3 (ipykernel)",
   "language": "python",
   "name": "python3"
  },
  "language_info": {
   "codemirror_mode": {
    "name": "ipython",
    "version": 3
   },
   "file_extension": ".py",
   "mimetype": "text/x-python",
   "name": "python",
   "nbconvert_exporter": "python",
   "pygments_lexer": "ipython3",
   "version": "3.9.1"
  }
 },
 "nbformat": 4,
 "nbformat_minor": 5
}
