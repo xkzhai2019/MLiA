{
 "cells": [
  {
   "cell_type": "markdown",
   "id": "0a39c65e-29a6-4789-bd40-cdc975ea7e07",
   "metadata": {},
   "source": [
    "### SVM参数调整"
   ]
  },
  {
   "cell_type": "code",
   "execution_count": 5,
   "id": "72a308c0-6a92-46c0-beff-9d90c7e411c0",
   "metadata": {},
   "outputs": [],
   "source": [
    "# 导包\n",
    "import numpy as np\n",
    "import pandas as pd\n",
    "from sklearn import svm\n",
    "from sklearn.metrics import accuracy_score\n",
    "import matplotlib as mpl\n",
    "import matplotlib.pyplot as plt\n",
    "import matplotlib.colors"
   ]
  },
  {
   "cell_type": "code",
   "execution_count": 19,
   "id": "f4e4bbfe-c6bf-4296-8318-53c93df0cb31",
   "metadata": {},
   "outputs": [
    {
     "name": "stdout",
     "output_type": "stream",
     "text": [
      "      0    1\n",
      "0   7.0  3.2\n",
      "1   6.4  3.2\n",
      "2   6.9  3.1\n",
      "3   5.5  2.3\n",
      "4   6.5  2.8\n",
      "..  ...  ...\n",
      "95  6.7  3.0\n",
      "96  6.3  2.5\n",
      "97  6.5  3.0\n",
      "98  6.2  3.4\n",
      "99  5.9  3.0\n",
      "\n",
      "[100 rows x 2 columns]\n",
      "0     0\n",
      "1     0\n",
      "2     0\n",
      "3     0\n",
      "4     0\n",
      "     ..\n",
      "95    1\n",
      "96    1\n",
      "97    1\n",
      "98    1\n",
      "99    1\n",
      "Name: 2, Length: 100, dtype: int64\n"
     ]
    }
   ],
   "source": [
    "# 数据加载\n",
    "data = pd.read_csv('data/svm3.txt', sep='\\t', header=None)\n",
    "X, y = data[[0, 1]], data[2]\n",
    "print(X)\n",
    "print(y)"
   ]
  },
  {
   "cell_type": "code",
   "execution_count": 33,
   "id": "5013f14d-9233-47e1-a835-409c2b45e06f",
   "metadata": {},
   "outputs": [
    {
     "name": "stdout",
     "output_type": "stream",
     "text": [
      "x1_min:  4.9\n",
      "x2_min:  2.0\n",
      "x1_max:  7.9\n",
      "x2_max:  3.8\n"
     ]
    },
    {
     "data": {
      "text/plain": [
       "0    4.9\n",
       "1    2.0\n",
       "dtype: float64"
      ]
     },
     "execution_count": 33,
     "metadata": {},
     "output_type": "execute_result"
    }
   ],
   "source": [
    "# 定义多个候选分类器\n",
    "clf_params = (('rbf', 1, 0.1), ('rbf', 1, 1), ('rbf', 1, 10), ('rbf', 1, 100),\n",
    "                ('rbf', 5, 0.1), ('rbf', 5, 1), ('rbf', 5, 10), ('rbf', 5, 100),\n",
    "    ('rbf', 1, 5), ('rbf', 50, 5), ('rbf', 100, 5), ('rbf', 1000,5))\n",
    "x1_min, x2_min = np.min(X, axis=0) # 按类别计算\n",
    "x1_max, x2_max = np.max(X, axis=0) # 按类别计算\n",
    "print(\"x1_min: \",x1_min)\n",
    "print(\"x2_min: \",x2_min)\n",
    "print(\"x1_max: \",x1_max)\n",
    "print(\"x2_max: \",x2_max)\n",
    "\n",
    "np.min(X, axis=0)"
   ]
  },
  {
   "cell_type": "code",
   "execution_count": 32,
   "id": "21374e6a-803e-4ccf-936f-461474cf48ae",
   "metadata": {},
   "outputs": [
    {
     "name": "stdout",
     "output_type": "stream",
     "text": [
      "[[4.9        4.9        4.9        ... 4.9        4.9        4.9       ]\n",
      " [4.91507538 4.91507538 4.91507538 ... 4.91507538 4.91507538 4.91507538]\n",
      " [4.93015075 4.93015075 4.93015075 ... 4.93015075 4.93015075 4.93015075]\n",
      " ...\n",
      " [7.86984925 7.86984925 7.86984925 ... 7.86984925 7.86984925 7.86984925]\n",
      " [7.88492462 7.88492462 7.88492462 ... 7.88492462 7.88492462 7.88492462]\n",
      " [7.9        7.9        7.9        ... 7.9        7.9        7.9       ]]\n"
     ]
    }
   ],
   "source": [
    "x1, x2 = np.mgrid[x1_min:x1_max:200j, x2_min:x2_max:200j]\n"
   ]
  },
  {
   "cell_type": "code",
   "execution_count": 37,
   "id": "cf3e482b-3ef9-4562-abe5-8a628490f17e",
   "metadata": {},
   "outputs": [
    {
     "ename": "SyntaxError",
     "evalue": "invalid syntax (1709247285.py, line 1)",
     "output_type": "error",
     "traceback": [
      "\u001b[0;36m  Cell \u001b[0;32mIn[37], line 1\u001b[0;36m\u001b[0m\n\u001b[0;31m    x1 = [x1_min:x1_max:200j]\u001b[0m\n\u001b[0m                ^\u001b[0m\n\u001b[0;31mSyntaxError\u001b[0m\u001b[0;31m:\u001b[0m invalid syntax\n"
     ]
    }
   ],
   "source": []
  },
  {
   "cell_type": "code",
   "execution_count": null,
   "id": "80d64507-fee8-4500-ad50-09094f8e264b",
   "metadata": {},
   "outputs": [],
   "source": []
  }
 ],
 "metadata": {
  "kernelspec": {
   "display_name": "Python 3 (ipykernel)",
   "language": "python",
   "name": "python3"
  },
  "language_info": {
   "codemirror_mode": {
    "name": "ipython",
    "version": 3
   },
   "file_extension": ".py",
   "mimetype": "text/x-python",
   "name": "python",
   "nbconvert_exporter": "python",
   "pygments_lexer": "ipython3",
   "version": "3.9.16"
  }
 },
 "nbformat": 4,
 "nbformat_minor": 5
}
