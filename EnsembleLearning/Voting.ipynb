{
 "cells": [
  {
   "cell_type": "markdown",
   "id": "951f8933-1c17-41ca-bfbc-7ed9fbf102ba",
   "metadata": {},
   "source": [
    "### Voting"
   ]
  },
  {
   "cell_type": "markdown",
   "id": "ced06bd4-adc8-48c3-93e2-462e1f8c63e5",
   "metadata": {},
   "source": [
    "##### 概率计算"
   ]
  },
  {
   "cell_type": "code",
   "execution_count": 7,
   "id": "6fdfbf9a-f4a9-498a-8248-6d99a9c2371e",
   "metadata": {},
   "outputs": [
    {
     "name": "stdout",
     "output_type": "stream",
     "text": [
      "10\n"
     ]
    }
   ],
   "source": [
    "# 排列组合函数\n",
    "import math\n",
    "\n",
    "def combination(m, n):\n",
    "    return math.factorial(m) // (math.factorial(n) * math.factorial(m - n))\n",
    "\n",
    "# 示例\n",
    "m = 5\n",
    "n = 3\n",
    "print(combination(m, n))  # 输出：10\n"
   ]
  },
  {
   "cell_type": "code",
   "execution_count": 47,
   "id": "43bc648d-1c8e-4356-91a6-4d8d925754a5",
   "metadata": {},
   "outputs": [
    {
     "name": "stdout",
     "output_type": "stream",
     "text": [
      "0.7260985557305042\n"
     ]
    }
   ],
   "source": [
    "sum1 = 0\n",
    "m1 = 1000\n",
    "for i in range(501):\n",
    "    sum1 += combination(m1,i)*pow(0.51,i)*pow(0.49,m1-i)\n",
    "\n",
    "print(1-sum1)"
   ]
  },
  {
   "cell_type": "code",
   "execution_count": 29,
   "id": "ecda1736-5451-4851-9b9d-9e96d10083e8",
   "metadata": {},
   "outputs": [
    {
     "name": "stdout",
     "output_type": "stream",
     "text": [
      "10\n",
      "0.9999999999437628171939162927979795668622020993609686171158314316897193443643736977176790120782294364678208109699238293721727507399816627005110081442781869169198751130639253544541271646367174211607370305634984191406504912926567299372962058182788505010677099903164615690527088817154996402014076802192010103157262549681729713702974202978865435807217720902414218543052611012357554208658650332355767966257291370191050104964604750074921403272218299210716838182204863625659886226908426597424044622927362742188426949827228664403856412474666112568268583639661101799547946526403459724478817615531921542815575639549267561089705208392719836777081260188730668975890266135710564519884941944819937169720117967326188818183016158621269164804080427768744233236299832600343496466332794924897243588700282430311411872021187362260469766566279083880245328287672532013226504169661075546306122819844566981789118683448261617099467240316172897116591767489108631638607098402939856210649040800726065193389914194942319037017628357\n"
     ]
    }
   ],
   "source": [
    "from scipy.special import comb\n",
    "\n",
    "# 示例\n",
    "m = 5\n",
    "n = 3\n",
    "print(comb(m, n, exact=True))  # 输出：10\n",
    "\n",
    "from decimal import Decimal, getcontext\n",
    "getcontext().prec = 1000  # 自定义精度\n",
    "\n",
    "\n",
    "sum2 = 0.0\n",
    "m2 = 1200\n",
    "for i in range(501):\n",
    "    sum2 = Decimal(sum2) + Decimal(comb(m2,i, exact=True))*Decimal(pow(0.51,i))*Decimal(pow(0.49,m2-i))\n",
    "\n",
    "print(1-sum2)"
   ]
  },
  {
   "cell_type": "code",
   "execution_count": 154,
   "id": "43eca610-ad22-45c3-9d88-2c095ce58c65",
   "metadata": {},
   "outputs": [
    {
     "name": "stdout",
     "output_type": "stream",
     "text": [
      "0.9411309174292296144824941954557602634649777327606549556656799204423592690108783451236200884902514002446443434806162965773975509195500513611562058099505465822018174195281235953444567151413222430179822433158862469745639928482430770015029262724315303137183876184794166865306872225170028684155899802186862753366222794331074855548302974688354205019371735831683564439597672324264359345892491194091855113372397929342093762625097567831839708447537773573184255488667595755855199871117541596279869986385305373836721133504275516021990999507052932076727902002044269810437281967186174289495016630866141138966648962551924519110243337870097733779393142189794536862911715692261223005172562017955973837726360272346764247273640548332916339213522949503134961182115494828220741294995861844973050242368918324272643471768003097865739047245947050151767649040357844253206537655175001099838394668752274484970491664154859786542665041910962153351678364601840185987248260022011987572551206279453143242569021934560200862620223002\n"
     ]
    }
   ],
   "source": [
    "from decimal import Decimal, getcontext\n",
    "getcontext().prec = 1000  # 自定义精度\n",
    "sum2 = 0\n",
    "m2 = 2080\n",
    "mid = m2//2 + 1\n",
    "for i in range(mid):\n",
    "    sum2 = Decimal(sum2) + Decimal(combination(m2,i))*Decimal(pow(0.51,i))*Decimal(pow(0.49,m2-i))\n",
    "\n",
    "print(1-sum2)"
   ]
  },
  {
   "cell_type": "markdown",
   "id": "6dd36ad4-8d9a-4fb5-a33f-e3203fb857d1",
   "metadata": {},
   "source": [
    "#### 统计采样验证"
   ]
  },
  {
   "cell_type": "code",
   "execution_count": 155,
   "id": "0cfd2731-a7e7-41f0-aa26-c6acbea4fca7",
   "metadata": {},
   "outputs": [
    {
     "name": "stdout",
     "output_type": "stream",
     "text": [
      "0.812\n"
     ]
    }
   ],
   "source": [
    "import numpy as np\n",
    "\n",
    "n = 2020 # 分类器个数\n",
    "p = np.array([0.51,0.49])\n",
    "ret = []\n",
    "for i in range(5000): # 投5000次票\n",
    "    # 第i次投票\n",
    "    num = np.random.choice([0,1],size=n,p=p.ravel()) # 0.51的概率选择0，0.49的概率选择1，生成每个分类器的选择结果\n",
    "    # 将投票较多的类别作为此次投票结果\n",
    "    if len(num[num==0]) > len(num[num==1]):\n",
    "        ret.append(0)\n",
    "    else:\n",
    "        ret.append(1)\n",
    "\n",
    "ret = np.array(ret)\n",
    "print(len(ret[ret==0]) / len(ret))"
   ]
  },
  {
   "cell_type": "code",
   "execution_count": null,
   "id": "f9c3cd38-4b31-4105-86ad-82f3554926d5",
   "metadata": {},
   "outputs": [],
   "source": []
  }
 ],
 "metadata": {
  "kernelspec": {
   "display_name": "Python 3 (ipykernel)",
   "language": "python",
   "name": "python3"
  },
  "language_info": {
   "codemirror_mode": {
    "name": "ipython",
    "version": 3
   },
   "file_extension": ".py",
   "mimetype": "text/x-python",
   "name": "python",
   "nbconvert_exporter": "python",
   "pygments_lexer": "ipython3",
   "version": "3.9.16"
  }
 },
 "nbformat": 4,
 "nbformat_minor": 5
}
