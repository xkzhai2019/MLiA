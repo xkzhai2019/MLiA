{
 "cells": [
  {
   "cell_type": "markdown",
   "id": "e075243b-116d-4cb3-854e-bd45e17326e5",
   "metadata": {},
   "source": [
    "### Bagging 和 随机森林"
   ]
  },
  {
   "cell_type": "markdown",
   "id": "e77646a8-9997-4344-b1e3-01574c8ca480",
   "metadata": {},
   "source": [
    "#### bagging"
   ]
  },
  {
   "cell_type": "code",
   "execution_count": 1,
   "id": "2b0bd1f4-f8f7-421a-9d69-6b09ed103d1b",
   "metadata": {},
   "outputs": [],
   "source": [
    "# （1）准备数据\n",
    "from sklearn.datasets import load_iris\n",
    "iris = load_iris()\n",
    "X = iris.data\n",
    "y = iris.target"
   ]
  },
  {
   "cell_type": "code",
   "execution_count": 3,
   "id": "d931370e-f529-484b-b4e8-469ab8cfef97",
   "metadata": {},
   "outputs": [],
   "source": [
    "# （2）构建bagging分类器 \n",
    "from sklearn.ensemble import BaggingClassifier\n",
    "from sklearn.svm import SVC\n",
    "\n",
    "bag_clf = BaggingClassifier(\n",
    "    SVC(), # 基分类器\n",
    "    n_estimators=500, # 基分类器个数\n",
    "    bootstrap=True, # 有放回，bagging\n",
    "    max_samples=1.0, # 设为整数代表采样数，设为浮点数代表占训练集总样本数的比例\n",
    "    oob_score=True # 使用未选取到的数据评估模型性能\n",
    ")"
   ]
  },
  {
   "cell_type": "code",
   "execution_count": 7,
   "id": "a5788128-6bf8-4205-a8c3-803df8cda5e2",
   "metadata": {},
   "outputs": [
    {
     "name": "stdout",
     "output_type": "stream",
     "text": [
      "BaggingClassifier = 0.9733333333333334\n",
      "0.9733333333333334\n"
     ]
    }
   ],
   "source": [
    "# (3) 训练模型并评估性能\n",
    "from sklearn.metrics import accuracy_score\n",
    "bag_clf.fit(X,y)\n",
    "y_hat = bag_clf.predict(X)\n",
    "print(bag_clf.__class__.__name__,'=',accuracy_score(y_hat,y))\n",
    "print(bag_clf.oob_score_)"
   ]
  },
  {
   "cell_type": "markdown",
   "id": "8653fc7f-db04-4118-8482-532ec284160c",
   "metadata": {},
   "source": [
    "#### 随机森林"
   ]
  },
  {
   "cell_type": "code",
   "execution_count": 18,
   "id": "50786162-6fa4-4ecf-bd53-5e8985743843",
   "metadata": {},
   "outputs": [
    {
     "name": "stdout",
     "output_type": "stream",
     "text": [
      "BaggingClassifier = 1.0\n",
      "0.9533333333333334\n"
     ]
    }
   ],
   "source": [
    "# 将基分类器改为DecisionTreeClassifier即为随机森林\n",
    "from sklearn.tree import DecisionTreeClassifier\n",
    "bag_clf = BaggingClassifier(\n",
    "    DecisionTreeClassifier(), # 基分类器\n",
    "    n_estimators=500, # 基分类器个数\n",
    "    bootstrap=True, # 有放回，bagging\n",
    "    max_samples=1.0, # 设为整数代表采样数，设为浮点数代表占训练集总样本数的比例\n",
    "    oob_score=True # 使用未选取到的数据评估模型性能\n",
    ")\n",
    "bag_clf.fit(X,y)\n",
    "y_hat = bag_clf.predict(X)\n",
    "print(bag_clf.__class__.__name__,'=',accuracy_score(y_hat,y))\n",
    "print(bag_clf.oob_score_)"
   ]
  },
  {
   "cell_type": "code",
   "execution_count": 20,
   "id": "5cdf0cdf-b744-4ffe-9cbf-d8eb51745a69",
   "metadata": {},
   "outputs": [
    {
     "name": "stdout",
     "output_type": "stream",
     "text": [
      "RandomForestClassifier = 1.0\n"
     ]
    }
   ],
   "source": [
    "# 通过RandomForestClassifier直接实现随机森林\n",
    "from sklearn.ensemble import RandomForestClassifier\n",
    "rnd_clf = RandomForestClassifier(n_estimators=500)\n",
    "rnd_clf.fit(X,y)\n",
    "y_hat = rnd_clf.predict(X)\n",
    "print(rnd_clf.__class__.__name__,'=',accuracy_score(y_hat,y))"
   ]
  },
  {
   "cell_type": "code",
   "execution_count": null,
   "id": "43d5a99c-c519-4463-b966-91bd119c87e6",
   "metadata": {},
   "outputs": [],
   "source": []
  }
 ],
 "metadata": {
  "kernelspec": {
   "display_name": "Python 3 (ipykernel)",
   "language": "python",
   "name": "python3"
  },
  "language_info": {
   "codemirror_mode": {
    "name": "ipython",
    "version": 3
   },
   "file_extension": ".py",
   "mimetype": "text/x-python",
   "name": "python",
   "nbconvert_exporter": "python",
   "pygments_lexer": "ipython3",
   "version": "3.9.1"
  }
 },
 "nbformat": 4,
 "nbformat_minor": 5
}
